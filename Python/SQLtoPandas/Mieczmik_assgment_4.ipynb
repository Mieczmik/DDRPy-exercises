{
 "cells": [
  {
   "cell_type": "markdown",
   "metadata": {},
   "source": [
    "# Mieczmik: Assignment 4"
   ]
  },
  {
   "cell_type": "code",
   "execution_count": 18,
   "metadata": {},
   "outputs": [],
   "source": [
    "import numpy as np\n",
    "import pandas as pd\n",
    "import sqlite3\n",
    "import os\n",
    "import tempfile"
   ]
  },
  {
   "cell_type": "code",
   "execution_count": 19,
   "metadata": {},
   "outputs": [],
   "source": [
    "Badges = pd.read_csv(os.path.join(os.getcwd(),'travel_exchange_com','Badges.csv.gz'), compression = \"gzip\")\n",
    "Comments = pd.read_csv(os.path.join(os.getcwd(),'travel_exchange_com','Comments.csv.gz'), compression = \"gzip\")\n",
    "PostLinks = pd.read_csv(os.path.join(os.getcwd(),'travel_exchange_com','PostLinks.csv.gz'), compression = \"gzip\")\n",
    "Posts = pd.read_csv(os.path.join(os.getcwd(),'travel_exchange_com','Posts.csv.gz'), compression = \"gzip\")\n",
    "Tags = pd.read_csv(os.path.join(os.getcwd(),'travel_exchange_com','Tags.csv.gz'), compression = \"gzip\")\n",
    "Users = pd.read_csv(os.path.join(os.getcwd(),'travel_exchange_com','Users.csv.gz'), compression = \"gzip\")\n",
    "Votes = pd.read_csv(os.path.join(os.getcwd(),'travel_exchange_com','Votes.csv.gz'), compression = \"gzip\")"
   ]
  },
  {
   "cell_type": "code",
   "execution_count": 20,
   "metadata": {},
   "outputs": [],
   "source": [
    "baza = os.path.join(tempfile.mkdtemp(), 'baza.sqlite')\n",
    "if os.path.isfile(baza): # if this file already exists...\n",
    "    os.remove(baza)\n",
    "    \n",
    "conn = sqlite3.connect(baza)\n",
    "Badges.to_sql(\"Badges\", conn)\n",
    "Comments.to_sql(\"Comments\", conn)\n",
    "PostLinks.to_sql(\"PostLinks\", conn)\n",
    "Posts.to_sql(\"Posts\", conn)\n",
    "Tags.to_sql(\"Tags\", conn)\n",
    "Users.to_sql(\"Users\", conn)\n",
    "Votes.to_sql(\"Votes\", conn)"
   ]
  },
  {
   "cell_type": "markdown",
   "metadata": {},
   "source": [
    "Exercise 1. SQL solution"
   ]
  },
  {
   "cell_type": "code",
   "execution_count": 21,
   "metadata": {},
   "outputs": [],
   "source": [
    "sql1=pd.read_sql_query(\"\"\"\n",
    "SELECT Posts.Title, RelatedTab.NumLinks\n",
    "                    FROM\n",
    "                        (SELECT RelatedPostId AS PostId, COUNT(*) AS NumLinks\n",
    "                        FROM PostLinks\n",
    "                        GROUP BY RelatedPostId) AS RelatedTab\n",
    "                    JOIN Posts ON RelatedTab.PostId=Posts.Id\n",
    "                    WHERE Posts.PostTypeId=1\n",
    "                    ORDER BY NumLinks DESC\n",
    "\"\"\", conn)"
   ]
  },
  {
   "cell_type": "markdown",
   "metadata": {},
   "source": [
    "Exercise 1. Pandas package solution"
   ]
  },
  {
   "cell_type": "code",
   "execution_count": 22,
   "metadata": {},
   "outputs": [],
   "source": [
    "#Selecting title from Posts\n",
    "PostLinks[['RelatedPostId']]\n",
    "#Counting number of occurences of RelatedPostId\n",
    "sql1_1=pd.read_sql_query(\"\"\"SELECT RelatedPostId AS PostId, COUNT(*) AS NumLinks FROM PostLinks GROUP BY RelatedPostId\"\"\", conn)\n",
    "pd1_1=PostLinks[['RelatedPostId']].groupby('RelatedPostId').size().rename(\"NumLinks\").reset_index()\n",
    "\n",
    "pd1=pd1_1.merge(Posts.loc[Posts.PostTypeId==1], left_on='RelatedPostId',right_on='Id')[['Title','NumLinks']]\\\n",
    ".sort_values(by=['NumLinks'],ascending=False, kind='mergesort').reset_index(drop=True)"
   ]
  },
  {
   "cell_type": "code",
   "execution_count": 23,
   "metadata": {},
   "outputs": [
    {
     "data": {
      "text/plain": [
       "True"
      ]
     },
     "execution_count": 23,
     "metadata": {},
     "output_type": "execute_result"
    }
   ],
   "source": [
    "pd1.equals(sql1)"
   ]
  },
  {
   "cell_type": "code",
   "execution_count": 24,
   "metadata": {},
   "outputs": [
    {
     "data": {
      "text/html": [
       "<div>\n",
       "<style scoped>\n",
       "    .dataframe tbody tr th:only-of-type {\n",
       "        vertical-align: middle;\n",
       "    }\n",
       "\n",
       "    .dataframe tbody tr th {\n",
       "        vertical-align: top;\n",
       "    }\n",
       "\n",
       "    .dataframe thead th {\n",
       "        text-align: right;\n",
       "    }\n",
       "</style>\n",
       "<table border=\"1\" class=\"dataframe\">\n",
       "  <thead>\n",
       "    <tr style=\"text-align: right;\">\n",
       "      <th></th>\n",
       "      <th>Title</th>\n",
       "      <th>NumLinks</th>\n",
       "    </tr>\n",
       "  </thead>\n",
       "  <tbody>\n",
       "    <tr>\n",
       "      <th>0</th>\n",
       "      <td>Is there a way to find out if I need a transit...</td>\n",
       "      <td>594</td>\n",
       "    </tr>\n",
       "    <tr>\n",
       "      <th>1</th>\n",
       "      <td>Do I need a visa to transit (or layover) in th...</td>\n",
       "      <td>585</td>\n",
       "    </tr>\n",
       "    <tr>\n",
       "      <th>2</th>\n",
       "      <td>Should my first trip be to the country which i...</td>\n",
       "      <td>331</td>\n",
       "    </tr>\n",
       "    <tr>\n",
       "      <th>3</th>\n",
       "      <td>Should I submit bank statements when applying ...</td>\n",
       "      <td>259</td>\n",
       "    </tr>\n",
       "    <tr>\n",
       "      <th>4</th>\n",
       "      <td>How much electronics and other valuables can I...</td>\n",
       "      <td>197</td>\n",
       "    </tr>\n",
       "    <tr>\n",
       "      <th>...</th>\n",
       "      <td>...</td>\n",
       "      <td>...</td>\n",
       "    </tr>\n",
       "    <tr>\n",
       "      <th>4867</th>\n",
       "      <td>Is Cairns the only direct destination from the...</td>\n",
       "      <td>1</td>\n",
       "    </tr>\n",
       "    <tr>\n",
       "      <th>4868</th>\n",
       "      <td>EasyJet - Is the return flight valid if I miss...</td>\n",
       "      <td>1</td>\n",
       "    </tr>\n",
       "    <tr>\n",
       "      <th>4869</th>\n",
       "      <td>Are CBP officers allowed to search and clone m...</td>\n",
       "      <td>1</td>\n",
       "    </tr>\n",
       "    <tr>\n",
       "      <th>4870</th>\n",
       "      <td>US B1/B2 VISA not approved</td>\n",
       "      <td>1</td>\n",
       "    </tr>\n",
       "    <tr>\n",
       "      <th>4871</th>\n",
       "      <td>If I visit Iran, is there a risk of not being ...</td>\n",
       "      <td>1</td>\n",
       "    </tr>\n",
       "  </tbody>\n",
       "</table>\n",
       "<p>4872 rows × 2 columns</p>\n",
       "</div>"
      ],
      "text/plain": [
       "                                                  Title  NumLinks\n",
       "0     Is there a way to find out if I need a transit...       594\n",
       "1     Do I need a visa to transit (or layover) in th...       585\n",
       "2     Should my first trip be to the country which i...       331\n",
       "3     Should I submit bank statements when applying ...       259\n",
       "4     How much electronics and other valuables can I...       197\n",
       "...                                                 ...       ...\n",
       "4867  Is Cairns the only direct destination from the...         1\n",
       "4868  EasyJet - Is the return flight valid if I miss...         1\n",
       "4869  Are CBP officers allowed to search and clone m...         1\n",
       "4870                         US B1/B2 VISA not approved         1\n",
       "4871  If I visit Iran, is there a risk of not being ...         1\n",
       "\n",
       "[4872 rows x 2 columns]"
      ]
     },
     "execution_count": 24,
     "metadata": {},
     "output_type": "execute_result"
    }
   ],
   "source": [
    "pd1"
   ]
  },
  {
   "cell_type": "markdown",
   "metadata": {},
   "source": [
    "Exercise 2. SQL solution"
   ]
  },
  {
   "cell_type": "code",
   "execution_count": 25,
   "metadata": {},
   "outputs": [],
   "source": [
    "sql2=pd.read_sql_query(\"\"\"\n",
    "SELECT\n",
    "    Users.DisplayName,\n",
    "    Users.Age,\n",
    "    Users.Location,\n",
    "    SUM(Posts.FavoriteCount) AS FavoriteTotal,\n",
    "    Posts.Title AS MostFavoriteQuestion,\n",
    "    MAX(Posts.FavoriteCount) AS MostFavoriteQuestionLikes\n",
    "FROM Posts\n",
    "JOIN Users ON Users.Id=Posts.OwnerUserId\n",
    "WHERE Posts.PostTypeId=1\n",
    "GROUP BY OwnerUserId\n",
    "ORDER BY FavoriteTotal DESC\n",
    "LIMIT 10\n",
    "\"\"\", conn)"
   ]
  },
  {
   "cell_type": "markdown",
   "metadata": {},
   "source": [
    "Exercise 2. Pandas package solution"
   ]
  },
  {
   "cell_type": "code",
   "execution_count": 26,
   "metadata": {},
   "outputs": [],
   "source": [
    "# 1 Columns from Users\n",
    "UsersCol = Users[['Id', 'DisplayName', 'Age', 'Location']]\n",
    "\n",
    "# 2 Columns from Posts\n",
    "PostsCol = Posts.loc[Posts.PostTypeId==1][['OwnerUserId', 'FavoriteCount']].dropna(axis=0)\\\n",
    ".groupby(['OwnerUserId'])['FavoriteCount'].agg(['sum', 'max']).reset_index()\\\n",
    ".rename(columns={\"sum\": \"FavoriteTotal\", \"max\": \"MostFavoriteQuestionLikes\"})\\\n",
    ".merge(Posts[['OwnerUserId', 'FavoriteCount', 'Title']], left_on=['OwnerUserId', 'MostFavoriteQuestionLikes'],right_on=['OwnerUserId', 'FavoriteCount'],\\\n",
    ")[['OwnerUserId', 'FavoriteTotal', 'MostFavoriteQuestionLikes', 'Title']].rename(columns={'Title': 'MostFavoriteQuestion'})\n",
    "\n",
    "pd2 = PostsCol.merge(UsersCol, left_on = 'OwnerUserId', right_on = 'Id').sort_values(by=['FavoriteTotal'],\\\n",
    "ascending=False, kind='mergesort')\\\n",
    "[['DisplayName', 'Age', 'Location', 'FavoriteTotal', 'MostFavoriteQuestion', 'MostFavoriteQuestionLikes']]\\\n",
    ".head(n=10).reset_index(drop=True)"
   ]
  },
  {
   "cell_type": "code",
   "execution_count": 27,
   "metadata": {},
   "outputs": [
    {
     "data": {
      "text/plain": [
       "True"
      ]
     },
     "execution_count": 27,
     "metadata": {},
     "output_type": "execute_result"
    }
   ],
   "source": [
    "pd2.equals(sql2)"
   ]
  },
  {
   "cell_type": "code",
   "execution_count": 28,
   "metadata": {},
   "outputs": [
    {
     "data": {
      "text/html": [
       "<div>\n",
       "<style scoped>\n",
       "    .dataframe tbody tr th:only-of-type {\n",
       "        vertical-align: middle;\n",
       "    }\n",
       "\n",
       "    .dataframe tbody tr th {\n",
       "        vertical-align: top;\n",
       "    }\n",
       "\n",
       "    .dataframe thead th {\n",
       "        text-align: right;\n",
       "    }\n",
       "</style>\n",
       "<table border=\"1\" class=\"dataframe\">\n",
       "  <thead>\n",
       "    <tr style=\"text-align: right;\">\n",
       "      <th></th>\n",
       "      <th>DisplayName</th>\n",
       "      <th>Age</th>\n",
       "      <th>Location</th>\n",
       "      <th>FavoriteTotal</th>\n",
       "      <th>MostFavoriteQuestion</th>\n",
       "      <th>MostFavoriteQuestionLikes</th>\n",
       "    </tr>\n",
       "  </thead>\n",
       "  <tbody>\n",
       "    <tr>\n",
       "      <th>0</th>\n",
       "      <td>Mark Mayo</td>\n",
       "      <td>37.0</td>\n",
       "      <td>Sydney, New South Wales, Australia</td>\n",
       "      <td>467.0</td>\n",
       "      <td>Tactics to avoid getting harassed by corrupt p...</td>\n",
       "      <td>42.0</td>\n",
       "    </tr>\n",
       "    <tr>\n",
       "      <th>1</th>\n",
       "      <td>hippietrail</td>\n",
       "      <td>NaN</td>\n",
       "      <td>Oaxaca, Mexico</td>\n",
       "      <td>444.0</td>\n",
       "      <td>OK we're all adults here, so really, how on ea...</td>\n",
       "      <td>79.0</td>\n",
       "    </tr>\n",
       "    <tr>\n",
       "      <th>2</th>\n",
       "      <td>RoflcoptrException</td>\n",
       "      <td>NaN</td>\n",
       "      <td>NaN</td>\n",
       "      <td>294.0</td>\n",
       "      <td>How to avoid drinking vodka?</td>\n",
       "      <td>29.0</td>\n",
       "    </tr>\n",
       "    <tr>\n",
       "      <th>3</th>\n",
       "      <td>JonathanReez</td>\n",
       "      <td>26.0</td>\n",
       "      <td>Prague, Czech Republic</td>\n",
       "      <td>221.0</td>\n",
       "      <td>What is the highest viewing spot in London tha...</td>\n",
       "      <td>17.0</td>\n",
       "    </tr>\n",
       "    <tr>\n",
       "      <th>4</th>\n",
       "      <td>nsn</td>\n",
       "      <td>NaN</td>\n",
       "      <td>NaN</td>\n",
       "      <td>214.0</td>\n",
       "      <td>How do airlines determine ticket prices?</td>\n",
       "      <td>40.0</td>\n",
       "    </tr>\n",
       "    <tr>\n",
       "      <th>5</th>\n",
       "      <td>Gagravarr</td>\n",
       "      <td>NaN</td>\n",
       "      <td>Oxford, United Kingdom</td>\n",
       "      <td>151.0</td>\n",
       "      <td>Are there other places with gardens like those...</td>\n",
       "      <td>10.0</td>\n",
       "    </tr>\n",
       "    <tr>\n",
       "      <th>6</th>\n",
       "      <td>Andrew Grimm</td>\n",
       "      <td>38.0</td>\n",
       "      <td>Sydney, Australia</td>\n",
       "      <td>120.0</td>\n",
       "      <td>OK we're all nerds here, so really, how on ear...</td>\n",
       "      <td>8.0</td>\n",
       "    </tr>\n",
       "    <tr>\n",
       "      <th>7</th>\n",
       "      <td>VMAtm</td>\n",
       "      <td>33.0</td>\n",
       "      <td>Tampa, FL, United States</td>\n",
       "      <td>109.0</td>\n",
       "      <td>Is there a good website to plan a trip via tra...</td>\n",
       "      <td>34.0</td>\n",
       "    </tr>\n",
       "    <tr>\n",
       "      <th>8</th>\n",
       "      <td>jrdioko</td>\n",
       "      <td>NaN</td>\n",
       "      <td>NaN</td>\n",
       "      <td>100.0</td>\n",
       "      <td>What is the most comfortable way to sleep on a...</td>\n",
       "      <td>21.0</td>\n",
       "    </tr>\n",
       "    <tr>\n",
       "      <th>9</th>\n",
       "      <td>Gayot Fow</td>\n",
       "      <td>NaN</td>\n",
       "      <td>London, United Kingdom</td>\n",
       "      <td>98.0</td>\n",
       "      <td>Should I submit bank statements when applying ...</td>\n",
       "      <td>18.0</td>\n",
       "    </tr>\n",
       "  </tbody>\n",
       "</table>\n",
       "</div>"
      ],
      "text/plain": [
       "          DisplayName   Age                            Location  \\\n",
       "0           Mark Mayo  37.0  Sydney, New South Wales, Australia   \n",
       "1         hippietrail   NaN                      Oaxaca, Mexico   \n",
       "2  RoflcoptrException   NaN                                 NaN   \n",
       "3        JonathanReez  26.0              Prague, Czech Republic   \n",
       "4                 nsn   NaN                                 NaN   \n",
       "5           Gagravarr   NaN              Oxford, United Kingdom   \n",
       "6        Andrew Grimm  38.0                   Sydney, Australia   \n",
       "7               VMAtm  33.0            Tampa, FL, United States   \n",
       "8             jrdioko   NaN                                 NaN   \n",
       "9           Gayot Fow   NaN              London, United Kingdom   \n",
       "\n",
       "   FavoriteTotal                               MostFavoriteQuestion  \\\n",
       "0          467.0  Tactics to avoid getting harassed by corrupt p...   \n",
       "1          444.0  OK we're all adults here, so really, how on ea...   \n",
       "2          294.0                       How to avoid drinking vodka?   \n",
       "3          221.0  What is the highest viewing spot in London tha...   \n",
       "4          214.0           How do airlines determine ticket prices?   \n",
       "5          151.0  Are there other places with gardens like those...   \n",
       "6          120.0  OK we're all nerds here, so really, how on ear...   \n",
       "7          109.0  Is there a good website to plan a trip via tra...   \n",
       "8          100.0  What is the most comfortable way to sleep on a...   \n",
       "9           98.0  Should I submit bank statements when applying ...   \n",
       "\n",
       "   MostFavoriteQuestionLikes  \n",
       "0                       42.0  \n",
       "1                       79.0  \n",
       "2                       29.0  \n",
       "3                       17.0  \n",
       "4                       40.0  \n",
       "5                       10.0  \n",
       "6                        8.0  \n",
       "7                       34.0  \n",
       "8                       21.0  \n",
       "9                       18.0  "
      ]
     },
     "execution_count": 28,
     "metadata": {},
     "output_type": "execute_result"
    }
   ],
   "source": [
    "pd2"
   ]
  },
  {
   "cell_type": "markdown",
   "metadata": {},
   "source": [
    "Exercise 3. SQL solution"
   ]
  },
  {
   "cell_type": "code",
   "execution_count": 29,
   "metadata": {},
   "outputs": [],
   "source": [
    "sql3=pd.read_sql_query(\"\"\"\n",
    "SELECT\n",
    "    Posts.Title,\n",
    "    CmtTotScr.CommentsTotalScore\n",
    "FROM (\n",
    "    SELECT\n",
    "        PostID,\n",
    "        UserID,\n",
    "        SUM(Score) AS CommentsTotalScore\n",
    "    FROM Comments\n",
    "    GROUP BY PostID, UserID\n",
    ") AS CmtTotScr\n",
    "JOIN Posts ON Posts.ID=CmtTotScr.PostID AND Posts.OwnerUserId=CmtTotScr.UserID\n",
    "WHERE Posts.PostTypeId=1\n",
    "ORDER BY CmtTotScr.CommentsTotalScore DESC\n",
    "LIMIT 10\n",
    "\"\"\", conn)"
   ]
  },
  {
   "cell_type": "markdown",
   "metadata": {},
   "source": [
    "Exercise 3. Pandas package solution"
   ]
  },
  {
   "cell_type": "code",
   "execution_count": 30,
   "metadata": {},
   "outputs": [],
   "source": [
    "#ComTotScr\n",
    "ComTotScr = Comments[['UserId', 'PostId', 'Score']].groupby(['UserId', 'PostId']).sum()\n",
    "\n",
    "pd3 = Posts.loc[Posts.PostTypeId==1][['Id', 'OwnerUserId', 'Title']].merge(ComTotScr, left_on=['Id', 'OwnerUserId'], \\\n",
    "right_on=['PostId', 'UserId']).rename(columns={'Score': 'CommentsTotalScore'}).sort_values(by=['CommentsTotalScore'],ascending=False, kind='mergesort').head(n=10).reset_index(drop=True)[['Title','CommentsTotalScore']]"
   ]
  },
  {
   "cell_type": "code",
   "execution_count": 31,
   "metadata": {},
   "outputs": [
    {
     "data": {
      "text/plain": [
       "True"
      ]
     },
     "execution_count": 31,
     "metadata": {},
     "output_type": "execute_result"
    }
   ],
   "source": [
    "pd3.equals(sql3)"
   ]
  },
  {
   "cell_type": "code",
   "execution_count": 32,
   "metadata": {},
   "outputs": [
    {
     "data": {
      "text/html": [
       "<div>\n",
       "<style scoped>\n",
       "    .dataframe tbody tr th:only-of-type {\n",
       "        vertical-align: middle;\n",
       "    }\n",
       "\n",
       "    .dataframe tbody tr th {\n",
       "        vertical-align: top;\n",
       "    }\n",
       "\n",
       "    .dataframe thead th {\n",
       "        text-align: right;\n",
       "    }\n",
       "</style>\n",
       "<table border=\"1\" class=\"dataframe\">\n",
       "  <thead>\n",
       "    <tr style=\"text-align: right;\">\n",
       "      <th></th>\n",
       "      <th>Title</th>\n",
       "      <th>CommentsTotalScore</th>\n",
       "    </tr>\n",
       "  </thead>\n",
       "  <tbody>\n",
       "    <tr>\n",
       "      <th>0</th>\n",
       "      <td>How to intentionally get denied entry to the U...</td>\n",
       "      <td>75</td>\n",
       "    </tr>\n",
       "    <tr>\n",
       "      <th>1</th>\n",
       "      <td>How can I deal with people asking to switch se...</td>\n",
       "      <td>32</td>\n",
       "    </tr>\n",
       "    <tr>\n",
       "      <th>2</th>\n",
       "      <td>What is France's traditional costume?</td>\n",
       "      <td>26</td>\n",
       "    </tr>\n",
       "    <tr>\n",
       "      <th>3</th>\n",
       "      <td>What's the longest scheduled public bus ride i...</td>\n",
       "      <td>25</td>\n",
       "    </tr>\n",
       "    <tr>\n",
       "      <th>4</th>\n",
       "      <td>Can I have a watermelon in hand luggage?</td>\n",
       "      <td>25</td>\n",
       "    </tr>\n",
       "    <tr>\n",
       "      <th>5</th>\n",
       "      <td>How does President Trump's travel ban affect n...</td>\n",
       "      <td>25</td>\n",
       "    </tr>\n",
       "    <tr>\n",
       "      <th>6</th>\n",
       "      <td>Caught speeding 111 Mph (179 km/h) in Californ...</td>\n",
       "      <td>24</td>\n",
       "    </tr>\n",
       "    <tr>\n",
       "      <th>7</th>\n",
       "      <td>Returning US Citizen lost passport in Canada</td>\n",
       "      <td>23</td>\n",
       "    </tr>\n",
       "    <tr>\n",
       "      <th>8</th>\n",
       "      <td>Legalities and safety concerns of visiting pro...</td>\n",
       "      <td>20</td>\n",
       "    </tr>\n",
       "    <tr>\n",
       "      <th>9</th>\n",
       "      <td>India just demonetized all Rs 500 &amp; 1000 notes...</td>\n",
       "      <td>20</td>\n",
       "    </tr>\n",
       "  </tbody>\n",
       "</table>\n",
       "</div>"
      ],
      "text/plain": [
       "                                               Title  CommentsTotalScore\n",
       "0  How to intentionally get denied entry to the U...                  75\n",
       "1  How can I deal with people asking to switch se...                  32\n",
       "2              What is France's traditional costume?                  26\n",
       "3  What's the longest scheduled public bus ride i...                  25\n",
       "4           Can I have a watermelon in hand luggage?                  25\n",
       "5  How does President Trump's travel ban affect n...                  25\n",
       "6  Caught speeding 111 Mph (179 km/h) in Californ...                  24\n",
       "7       Returning US Citizen lost passport in Canada                  23\n",
       "8  Legalities and safety concerns of visiting pro...                  20\n",
       "9  India just demonetized all Rs 500 & 1000 notes...                  20"
      ]
     },
     "execution_count": 32,
     "metadata": {},
     "output_type": "execute_result"
    }
   ],
   "source": [
    "pd3"
   ]
  }
 ],
 "metadata": {
  "kernelspec": {
   "display_name": "Python 3 (ipykernel)",
   "language": "python",
   "name": "python3"
  },
  "language_info": {
   "codemirror_mode": {
    "name": "ipython",
    "version": 3
   },
   "file_extension": ".py",
   "mimetype": "text/x-python",
   "name": "python",
   "nbconvert_exporter": "python",
   "pygments_lexer": "ipython3",
   "version": "3.9.6"
  }
 },
 "nbformat": 4,
 "nbformat_minor": 4
}
